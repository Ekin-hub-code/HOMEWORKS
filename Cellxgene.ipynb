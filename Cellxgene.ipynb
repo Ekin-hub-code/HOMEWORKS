{
  "cells": [
    {
      "cell_type": "markdown",
      "metadata": {
        "id": "NtVOlmDSHmh4"
      },
      "source": [
        "##### Copyright 2025 Google LLC."
      ]
    },
    {
      "cell_type": "code",
      "source": [
        "pip install cellxgene-census"
      ],
      "metadata": {
        "colab": {
          "base_uri": "https://localhost:8080/"
        },
        "id": "WCqhhtMg0ije",
        "outputId": "a0b0c68e-0d62-434f-dbd6-537da4737794"
      },
      "execution_count": 2,
      "outputs": [
        {
          "output_type": "stream",
          "name": "stdout",
          "text": [
            "Collecting cellxgene-census\n",
            "  Downloading cellxgene_census-1.17.0-py3-none-any.whl.metadata (5.2 kB)\n",
            "Collecting tiledbsoma>=1.15.3 (from cellxgene-census)\n",
            "  Downloading tiledbsoma-1.16.2-cp311-cp311-manylinux_2_28_x86_64.whl.metadata (7.0 kB)\n",
            "Collecting anndata (from cellxgene-census)\n",
            "  Downloading anndata-0.11.4-py3-none-any.whl.metadata (9.3 kB)\n",
            "Requirement already satisfied: numpy>=1.23 in /usr/local/lib/python3.11/dist-packages (from cellxgene-census) (2.0.2)\n",
            "Requirement already satisfied: requests in /usr/local/lib/python3.11/dist-packages (from cellxgene-census) (2.32.3)\n",
            "Requirement already satisfied: typing_extensions in /usr/local/lib/python3.11/dist-packages (from cellxgene-census) (4.13.2)\n",
            "Collecting s3fs>=2021.06.1 (from cellxgene-census)\n",
            "  Downloading s3fs-2025.3.2-py3-none-any.whl.metadata (1.9 kB)\n",
            "Collecting aiobotocore<3.0.0,>=2.5.4 (from s3fs>=2021.06.1->cellxgene-census)\n",
            "  Downloading aiobotocore-2.22.0-py3-none-any.whl.metadata (24 kB)\n",
            "Requirement already satisfied: fsspec==2025.3.2.* in /usr/local/lib/python3.11/dist-packages (from s3fs>=2021.06.1->cellxgene-census) (2025.3.2)\n",
            "Requirement already satisfied: aiohttp!=4.0.0a0,!=4.0.0a1 in /usr/local/lib/python3.11/dist-packages (from s3fs>=2021.06.1->cellxgene-census) (3.11.15)\n",
            "Requirement already satisfied: attrs>=22.2 in /usr/local/lib/python3.11/dist-packages (from tiledbsoma>=1.15.3->cellxgene-census) (25.3.0)\n",
            "Requirement already satisfied: more-itertools in /usr/local/lib/python3.11/dist-packages (from tiledbsoma>=1.15.3->cellxgene-census) (10.7.0)\n",
            "Requirement already satisfied: pandas in /usr/local/lib/python3.11/dist-packages (from tiledbsoma>=1.15.3->cellxgene-census) (2.2.2)\n",
            "Requirement already satisfied: pyarrow in /usr/local/lib/python3.11/dist-packages (from tiledbsoma>=1.15.3->cellxgene-census) (18.1.0)\n",
            "Collecting scanpy>=1.9.2 (from tiledbsoma>=1.15.3->cellxgene-census)\n",
            "  Downloading scanpy-1.11.1-py3-none-any.whl.metadata (9.9 kB)\n",
            "Requirement already satisfied: scipy in /usr/local/lib/python3.11/dist-packages (from tiledbsoma>=1.15.3->cellxgene-census) (1.15.3)\n",
            "Collecting somacore==1.0.28 (from tiledbsoma>=1.15.3->cellxgene-census)\n",
            "  Downloading somacore-1.0.28-py3-none-any.whl.metadata (1.5 kB)\n",
            "Collecting pyarrow-hotfix (from somacore==1.0.28->tiledbsoma>=1.15.3->cellxgene-census)\n",
            "  Downloading pyarrow_hotfix-0.7-py3-none-any.whl.metadata (3.6 kB)\n",
            "Requirement already satisfied: shapely in /usr/local/lib/python3.11/dist-packages (from somacore==1.0.28->tiledbsoma>=1.15.3->cellxgene-census) (2.1.0)\n",
            "Collecting array-api-compat!=1.5,>1.4 (from anndata->cellxgene-census)\n",
            "  Downloading array_api_compat-1.12.0-py3-none-any.whl.metadata (2.5 kB)\n",
            "Requirement already satisfied: h5py>=3.7 in /usr/local/lib/python3.11/dist-packages (from anndata->cellxgene-census) (3.13.0)\n",
            "Requirement already satisfied: natsort in /usr/local/lib/python3.11/dist-packages (from anndata->cellxgene-census) (8.4.0)\n",
            "Requirement already satisfied: packaging>=24.2 in /usr/local/lib/python3.11/dist-packages (from anndata->cellxgene-census) (24.2)\n",
            "Requirement already satisfied: charset-normalizer<4,>=2 in /usr/local/lib/python3.11/dist-packages (from requests->cellxgene-census) (3.4.2)\n",
            "Requirement already satisfied: idna<4,>=2.5 in /usr/local/lib/python3.11/dist-packages (from requests->cellxgene-census) (3.10)\n",
            "Requirement already satisfied: urllib3<3,>=1.21.1 in /usr/local/lib/python3.11/dist-packages (from requests->cellxgene-census) (2.4.0)\n",
            "Requirement already satisfied: certifi>=2017.4.17 in /usr/local/lib/python3.11/dist-packages (from requests->cellxgene-census) (2025.4.26)\n",
            "Collecting aioitertools<1.0.0,>=0.5.1 (from aiobotocore<3.0.0,>=2.5.4->s3fs>=2021.06.1->cellxgene-census)\n",
            "  Downloading aioitertools-0.12.0-py3-none-any.whl.metadata (3.8 kB)\n",
            "Collecting botocore<1.37.4,>=1.37.2 (from aiobotocore<3.0.0,>=2.5.4->s3fs>=2021.06.1->cellxgene-census)\n",
            "  Downloading botocore-1.37.3-py3-none-any.whl.metadata (5.7 kB)\n",
            "Requirement already satisfied: python-dateutil<3.0.0,>=2.1 in /usr/local/lib/python3.11/dist-packages (from aiobotocore<3.0.0,>=2.5.4->s3fs>=2021.06.1->cellxgene-census) (2.9.0.post0)\n",
            "Collecting jmespath<2.0.0,>=0.7.1 (from aiobotocore<3.0.0,>=2.5.4->s3fs>=2021.06.1->cellxgene-census)\n",
            "  Downloading jmespath-1.0.1-py3-none-any.whl.metadata (7.6 kB)\n",
            "Requirement already satisfied: multidict<7.0.0,>=6.0.0 in /usr/local/lib/python3.11/dist-packages (from aiobotocore<3.0.0,>=2.5.4->s3fs>=2021.06.1->cellxgene-census) (6.4.3)\n",
            "Requirement already satisfied: wrapt<2.0.0,>=1.10.10 in /usr/local/lib/python3.11/dist-packages (from aiobotocore<3.0.0,>=2.5.4->s3fs>=2021.06.1->cellxgene-census) (1.17.2)\n",
            "Requirement already satisfied: aiohappyeyeballs>=2.3.0 in /usr/local/lib/python3.11/dist-packages (from aiohttp!=4.0.0a0,!=4.0.0a1->s3fs>=2021.06.1->cellxgene-census) (2.6.1)\n",
            "Requirement already satisfied: aiosignal>=1.1.2 in /usr/local/lib/python3.11/dist-packages (from aiohttp!=4.0.0a0,!=4.0.0a1->s3fs>=2021.06.1->cellxgene-census) (1.3.2)\n",
            "Requirement already satisfied: frozenlist>=1.1.1 in /usr/local/lib/python3.11/dist-packages (from aiohttp!=4.0.0a0,!=4.0.0a1->s3fs>=2021.06.1->cellxgene-census) (1.6.0)\n",
            "Requirement already satisfied: propcache>=0.2.0 in /usr/local/lib/python3.11/dist-packages (from aiohttp!=4.0.0a0,!=4.0.0a1->s3fs>=2021.06.1->cellxgene-census) (0.3.1)\n",
            "Requirement already satisfied: yarl<2.0,>=1.17.0 in /usr/local/lib/python3.11/dist-packages (from aiohttp!=4.0.0a0,!=4.0.0a1->s3fs>=2021.06.1->cellxgene-census) (1.20.0)\n",
            "Requirement already satisfied: pytz>=2020.1 in /usr/local/lib/python3.11/dist-packages (from pandas->tiledbsoma>=1.15.3->cellxgene-census) (2025.2)\n",
            "Requirement already satisfied: tzdata>=2022.7 in /usr/local/lib/python3.11/dist-packages (from pandas->tiledbsoma>=1.15.3->cellxgene-census) (2025.2)\n",
            "Requirement already satisfied: joblib in /usr/local/lib/python3.11/dist-packages (from scanpy>=1.9.2->tiledbsoma>=1.15.3->cellxgene-census) (1.5.0)\n",
            "Collecting legacy-api-wrap>=1.4 (from scanpy>=1.9.2->tiledbsoma>=1.15.3->cellxgene-census)\n",
            "  Downloading legacy_api_wrap-1.4.1-py3-none-any.whl.metadata (2.1 kB)\n",
            "Requirement already satisfied: matplotlib>=3.7 in /usr/local/lib/python3.11/dist-packages (from scanpy>=1.9.2->tiledbsoma>=1.15.3->cellxgene-census) (3.10.0)\n",
            "Requirement already satisfied: networkx>=2.7 in /usr/local/lib/python3.11/dist-packages (from scanpy>=1.9.2->tiledbsoma>=1.15.3->cellxgene-census) (3.4.2)\n",
            "Requirement already satisfied: numba>=0.57 in /usr/local/lib/python3.11/dist-packages (from scanpy>=1.9.2->tiledbsoma>=1.15.3->cellxgene-census) (0.60.0)\n",
            "Requirement already satisfied: patsy!=1.0.0 in /usr/local/lib/python3.11/dist-packages (from scanpy>=1.9.2->tiledbsoma>=1.15.3->cellxgene-census) (1.0.1)\n",
            "Requirement already satisfied: pynndescent>=0.5 in /usr/local/lib/python3.11/dist-packages (from scanpy>=1.9.2->tiledbsoma>=1.15.3->cellxgene-census) (0.5.13)\n",
            "Collecting scikit-learn<1.6.0,>=1.1 (from scanpy>=1.9.2->tiledbsoma>=1.15.3->cellxgene-census)\n",
            "  Downloading scikit_learn-1.5.2-cp311-cp311-manylinux_2_17_x86_64.manylinux2014_x86_64.whl.metadata (13 kB)\n",
            "Requirement already satisfied: seaborn>=0.13 in /usr/local/lib/python3.11/dist-packages (from scanpy>=1.9.2->tiledbsoma>=1.15.3->cellxgene-census) (0.13.2)\n",
            "Collecting session-info2 (from scanpy>=1.9.2->tiledbsoma>=1.15.3->cellxgene-census)\n",
            "  Downloading session_info2-0.1.2-py3-none-any.whl.metadata (2.5 kB)\n",
            "Requirement already satisfied: statsmodels>=0.13 in /usr/local/lib/python3.11/dist-packages (from scanpy>=1.9.2->tiledbsoma>=1.15.3->cellxgene-census) (0.14.4)\n",
            "Requirement already satisfied: tqdm in /usr/local/lib/python3.11/dist-packages (from scanpy>=1.9.2->tiledbsoma>=1.15.3->cellxgene-census) (4.67.1)\n",
            "Requirement already satisfied: umap-learn!=0.5.0,>=0.5 in /usr/local/lib/python3.11/dist-packages (from scanpy>=1.9.2->tiledbsoma>=1.15.3->cellxgene-census) (0.5.7)\n",
            "Requirement already satisfied: contourpy>=1.0.1 in /usr/local/lib/python3.11/dist-packages (from matplotlib>=3.7->scanpy>=1.9.2->tiledbsoma>=1.15.3->cellxgene-census) (1.3.2)\n",
            "Requirement already satisfied: cycler>=0.10 in /usr/local/lib/python3.11/dist-packages (from matplotlib>=3.7->scanpy>=1.9.2->tiledbsoma>=1.15.3->cellxgene-census) (0.12.1)\n",
            "Requirement already satisfied: fonttools>=4.22.0 in /usr/local/lib/python3.11/dist-packages (from matplotlib>=3.7->scanpy>=1.9.2->tiledbsoma>=1.15.3->cellxgene-census) (4.58.0)\n",
            "Requirement already satisfied: kiwisolver>=1.3.1 in /usr/local/lib/python3.11/dist-packages (from matplotlib>=3.7->scanpy>=1.9.2->tiledbsoma>=1.15.3->cellxgene-census) (1.4.8)\n",
            "Requirement already satisfied: pillow>=8 in /usr/local/lib/python3.11/dist-packages (from matplotlib>=3.7->scanpy>=1.9.2->tiledbsoma>=1.15.3->cellxgene-census) (11.2.1)\n",
            "Requirement already satisfied: pyparsing>=2.3.1 in /usr/local/lib/python3.11/dist-packages (from matplotlib>=3.7->scanpy>=1.9.2->tiledbsoma>=1.15.3->cellxgene-census) (3.2.3)\n",
            "Requirement already satisfied: llvmlite<0.44,>=0.43.0dev0 in /usr/local/lib/python3.11/dist-packages (from numba>=0.57->scanpy>=1.9.2->tiledbsoma>=1.15.3->cellxgene-census) (0.43.0)\n",
            "Requirement already satisfied: six>=1.5 in /usr/local/lib/python3.11/dist-packages (from python-dateutil<3.0.0,>=2.1->aiobotocore<3.0.0,>=2.5.4->s3fs>=2021.06.1->cellxgene-census) (1.17.0)\n",
            "Requirement already satisfied: threadpoolctl>=3.1.0 in /usr/local/lib/python3.11/dist-packages (from scikit-learn<1.6.0,>=1.1->scanpy>=1.9.2->tiledbsoma>=1.15.3->cellxgene-census) (3.6.0)\n",
            "Downloading cellxgene_census-1.17.0-py3-none-any.whl (55 kB)\n",
            "\u001b[2K   \u001b[90m━━━━━━━━━━━━━━━━━━━━━━━━━━━━━━━━━━━━━━━━\u001b[0m \u001b[32m55.6/55.6 kB\u001b[0m \u001b[31m4.5 MB/s\u001b[0m eta \u001b[36m0:00:00\u001b[0m\n",
            "\u001b[?25hDownloading s3fs-2025.3.2-py3-none-any.whl (30 kB)\n",
            "Downloading tiledbsoma-1.16.2-cp311-cp311-manylinux_2_28_x86_64.whl (20.1 MB)\n",
            "\u001b[2K   \u001b[90m━━━━━━━━━━━━━━━━━━━━━━━━━━━━━━━━━━━━━━━━\u001b[0m \u001b[32m20.1/20.1 MB\u001b[0m \u001b[31m22.7 MB/s\u001b[0m eta \u001b[36m0:00:00\u001b[0m\n",
            "\u001b[?25hDownloading somacore-1.0.28-py3-none-any.whl (38 kB)\n",
            "Downloading anndata-0.11.4-py3-none-any.whl (144 kB)\n",
            "\u001b[2K   \u001b[90m━━━━━━━━━━━━━━━━━━━━━━━━━━━━━━━━━━━━━━━━\u001b[0m \u001b[32m144.5/144.5 kB\u001b[0m \u001b[31m12.3 MB/s\u001b[0m eta \u001b[36m0:00:00\u001b[0m\n",
            "\u001b[?25hDownloading aiobotocore-2.22.0-py3-none-any.whl (78 kB)\n",
            "\u001b[2K   \u001b[90m━━━━━━━━━━━━━━━━━━━━━━━━━━━━━━━━━━━━━━━━\u001b[0m \u001b[32m78.9/78.9 kB\u001b[0m \u001b[31m5.8 MB/s\u001b[0m eta \u001b[36m0:00:00\u001b[0m\n",
            "\u001b[?25hDownloading array_api_compat-1.12.0-py3-none-any.whl (58 kB)\n",
            "\u001b[2K   \u001b[90m━━━━━━━━━━━━━━━━━━━━━━━━━━━━━━━━━━━━━━━━\u001b[0m \u001b[32m58.2/58.2 kB\u001b[0m \u001b[31m5.0 MB/s\u001b[0m eta \u001b[36m0:00:00\u001b[0m\n",
            "\u001b[?25hDownloading scanpy-1.11.1-py3-none-any.whl (2.1 MB)\n",
            "\u001b[2K   \u001b[90m━━━━━━━━━━━━━━━━━━━━━━━━━━━━━━━━━━━━━━━━\u001b[0m \u001b[32m2.1/2.1 MB\u001b[0m \u001b[31m82.9 MB/s\u001b[0m eta \u001b[36m0:00:00\u001b[0m\n",
            "\u001b[?25hDownloading aioitertools-0.12.0-py3-none-any.whl (24 kB)\n",
            "Downloading botocore-1.37.3-py3-none-any.whl (13.3 MB)\n",
            "\u001b[2K   \u001b[90m━━━━━━━━━━━━━━━━━━━━━━━━━━━━━━━━━━━━━━━━\u001b[0m \u001b[32m13.3/13.3 MB\u001b[0m \u001b[31m74.3 MB/s\u001b[0m eta \u001b[36m0:00:00\u001b[0m\n",
            "\u001b[?25hDownloading jmespath-1.0.1-py3-none-any.whl (20 kB)\n",
            "Downloading legacy_api_wrap-1.4.1-py3-none-any.whl (10.0 kB)\n",
            "Downloading scikit_learn-1.5.2-cp311-cp311-manylinux_2_17_x86_64.manylinux2014_x86_64.whl (13.3 MB)\n",
            "\u001b[2K   \u001b[90m━━━━━━━━━━━━━━━━━━━━━━━━━━━━━━━━━━━━━━━━\u001b[0m \u001b[32m13.3/13.3 MB\u001b[0m \u001b[31m76.1 MB/s\u001b[0m eta \u001b[36m0:00:00\u001b[0m\n",
            "\u001b[?25hDownloading pyarrow_hotfix-0.7-py3-none-any.whl (7.9 kB)\n",
            "Downloading session_info2-0.1.2-py3-none-any.whl (14 kB)\n",
            "Installing collected packages: session-info2, pyarrow-hotfix, legacy-api-wrap, jmespath, array-api-compat, aioitertools, scikit-learn, botocore, anndata, aiobotocore, somacore, s3fs, scanpy, tiledbsoma, cellxgene-census\n",
            "  Attempting uninstall: scikit-learn\n",
            "    Found existing installation: scikit-learn 1.6.1\n",
            "    Uninstalling scikit-learn-1.6.1:\n",
            "      Successfully uninstalled scikit-learn-1.6.1\n",
            "Successfully installed aiobotocore-2.22.0 aioitertools-0.12.0 anndata-0.11.4 array-api-compat-1.12.0 botocore-1.37.3 cellxgene-census-1.17.0 jmespath-1.0.1 legacy-api-wrap-1.4.1 pyarrow-hotfix-0.7 s3fs-2025.3.2 scanpy-1.11.1 scikit-learn-1.5.2 session-info2-0.1.2 somacore-1.0.28 tiledbsoma-1.16.2\n"
          ]
        }
      ]
    },
    {
      "cell_type": "code",
      "source": [
        "import cellxgene_census\n",
        "import pandas as pd\n",
        "\n",
        "with cellxgene_census.open_soma(census_version=\"2025-01-30\") as census:\n",
        "\n",
        "    # Hücre tipleri: microglial cell, neuron\n",
        "    # Doku: brain\n",
        "    # Cinsiyet: female\n",
        "    # Hastalık: breast carcinoma\n",
        "\n",
        "    cell_metadata = census[\"census_data\"][\"homo_sapiens\"][\"obs\"].read(\n",
        "        value_filter=(\n",
        "            \"sex == 'female' and \"\n",
        "            \"cell_type in ['microglial cell', 'neuron'] and \"\n",
        "            \"tissue_general == 'brain' and \"\n",
        "            \"disease_ontology_term_id == 'MONDO:0007254' and \"\n",
        "            \"is_primary_data == True\"\n",
        "        ),\n",
        "        column_names=[\n",
        "            \"assay\", \"cell_type\", \"tissue\", \"tissue_general\",\n",
        "            \"suspension_type\", \"disease\", \"sex\", \"disease_ontology_term_id\"\n",
        "        ]\n",
        "    )\n",
        "\n",
        "    cell_metadata = cell_metadata.concat().to_pandas()\n",
        "\n",
        "print(cell_metadata.head())\n",
        "print(f\"\\nToplam hücre sayısı: {len(cell_metadata)}\")\n"
      ],
      "metadata": {
        "colab": {
          "base_uri": "https://localhost:8080/"
        },
        "id": "8MXKXEoK4N4N",
        "outputId": "40761e20-afaa-4dd3-df3f-89e327f803e0"
      },
      "execution_count": 4,
      "outputs": [
        {
          "output_type": "stream",
          "name": "stdout",
          "text": [
            "       assay        cell_type                         tissue tissue_general  \\\n",
            "0  10x 3' v3  microglial cell  medial orbital frontal cortex          brain   \n",
            "1  10x 3' v3  microglial cell  medial orbital frontal cortex          brain   \n",
            "2  10x 3' v3  microglial cell  medial orbital frontal cortex          brain   \n",
            "3  10x 3' v3  microglial cell  medial orbital frontal cortex          brain   \n",
            "4  10x 3' v3  microglial cell  medial orbital frontal cortex          brain   \n",
            "\n",
            "  suspension_type        disease     sex disease_ontology_term_id  \\\n",
            "0         nucleus  breast cancer  female            MONDO:0007254   \n",
            "1         nucleus  breast cancer  female            MONDO:0007254   \n",
            "2         nucleus  breast cancer  female            MONDO:0007254   \n",
            "3         nucleus  breast cancer  female            MONDO:0007254   \n",
            "4         nucleus  breast cancer  female            MONDO:0007254   \n",
            "\n",
            "   is_primary_data  \n",
            "0             True  \n",
            "1             True  \n",
            "2             True  \n",
            "3             True  \n",
            "4             True  \n",
            "\n",
            "Toplam hücre sayısı: 47\n"
          ]
        }
      ]
    },
    {
      "cell_type": "code",
      "source": [
        "import cellxgene_census\n",
        "\n",
        "with cellxgene_census.open_soma(census_version=\"2025-01-30\") as census:\n",
        "    obs_reader = census[\"census_data\"][\"homo_sapiens\"][\"obs\"].read(\n",
        "        column_names=[\"cell_type\"]\n",
        "    )\n",
        "\n",
        "    # Iterator'den parça alıyoruz (örnek: ilk 50 bin satır)\n",
        "    df_chunks = []\n",
        "    count = 0\n",
        "    max_rows = 50000\n",
        "\n",
        "    for chunk in obs_reader:\n",
        "        df = chunk.to_pandas()\n",
        "        df_chunks.append(df)\n",
        "        count += len(df)\n",
        "        if count >= max_rows:\n",
        "            break\n",
        "\n",
        "    df_combined = pd.concat(df_chunks, ignore_index=True)\n",
        "\n",
        "print(\"Benzersiz hücre tipleri (cell_type):\")\n",
        "print(df_combined[\"cell_type\"].value_counts())\n"
      ],
      "metadata": {
        "colab": {
          "base_uri": "https://localhost:8080/"
        },
        "id": "HhmOq6am6XjN",
        "outputId": "dda4fbf8-796b-4687-c16e-acde2b6a3d2c"
      },
      "execution_count": 6,
      "outputs": [
        {
          "output_type": "stream",
          "name": "stdout",
          "text": [
            "Benzersiz hücre tipleri (cell_type):\n",
            "cell_type\n",
            "neuron                                                       9693939\n",
            "oligodendrocyte                                              4437030\n",
            "L2/3-6 intratelencephalic projecting glutamatergic neuron    3861717\n",
            "glutamatergic neuron                                         3125705\n",
            "unknown                                                      2993011\n",
            "                                                              ...   \n",
            "macrophage dendritic cell progenitor                              31\n",
            "hypertrophic chondrocyte                                          28\n",
            "immature natural killer cell                                      26\n",
            "microfold cell of epithelium of small intestine                   19\n",
            "pancreatic endocrine cell                                          8\n",
            "Name: count, Length: 819, dtype: int64\n"
          ]
        }
      ]
    },
    {
      "cell_type": "code",
      "source": [
        "import cellxgene_census\n",
        "import pandas as pd\n",
        "\n",
        "with cellxgene_census.open_soma(census_version=\"2025-01-30\") as census:\n",
        "    # B hücrelerini içeren gözlemleri filtrele\n",
        "    cell_metadata = census[\"census_data\"][\"homo_sapiens\"][\"obs\"].read(\n",
        "        value_filter=\"cell_type == 'B cell'\",\n",
        "        column_names=[\"cell_type\", \"assay\", \"tissue\", \"tissue_general\", \"sex\", \"disease\"]\n",
        "    )\n",
        "\n",
        "    # Parçaları birleştir ve pandas'a çevir\n",
        "    cell_metadata = cell_metadata.concat().to_pandas()\n",
        "\n",
        "# Sonuçları göster\n",
        "print(cell_metadata.head())\n",
        "print(f\"\\nToplam B hücresi sayısı: {len(cell_metadata)}\")\n"
      ],
      "metadata": {
        "colab": {
          "base_uri": "https://localhost:8080/"
        },
        "id": "OVKuraPE7NOB",
        "outputId": "f21aa122-2af3-4ed2-f118-bb6a907841f6"
      },
      "execution_count": 7,
      "outputs": [
        {
          "output_type": "stream",
          "name": "stdout",
          "text": [
            "  cell_type      assay              tissue      tissue_general     sex  \\\n",
            "0    B cell  10x 3' v3  respiratory airway  respiratory system  female   \n",
            "1    B cell  10x 3' v2              thymus     endocrine gland    male   \n",
            "2    B cell  10x 3' v2              thymus     endocrine gland    male   \n",
            "3    B cell  10x 3' v2              thymus     endocrine gland    male   \n",
            "4    B cell  10x 3' v2              thymus     endocrine gland    male   \n",
            "\n",
            "    disease  \n",
            "0  COVID-19  \n",
            "1    normal  \n",
            "2    normal  \n",
            "3    normal  \n",
            "4    normal  \n",
            "\n",
            "Toplam B hücresi sayısı: 1691023\n"
          ]
        }
      ]
    },
    {
      "cell_type": "code",
      "source": [
        "import cellxgene_census\n",
        "import pandas as pd\n",
        "import plotly.express as px\n",
        "\n",
        "# Veriyi al\n",
        "with cellxgene_census.open_soma(census_version=\"2025-01-30\") as census:\n",
        "    obs_reader = census[\"census_data\"][\"homo_sapiens\"][\"obs\"].read(\n",
        "        column_names=[\"cell_type\"]\n",
        "    )\n",
        "\n",
        "    # İlk 30.000 hücreyi oku (RAM dostu)\n",
        "    chunks = []\n",
        "    total = 0\n",
        "    for chunk in obs_reader:\n",
        "        df = chunk.to_pandas()\n",
        "        chunks.append(df)\n",
        "        total += len(df)\n",
        "        if total >= 30000:\n",
        "            break\n",
        "\n",
        "    data = pd.concat(chunks, ignore_index=True)\n",
        "\n",
        "# Hücre tipi frekanslarını say\n",
        "cell_counts = data[\"cell_type\"].value_counts()\n",
        "\n",
        "# En sık geçen 9 hücre tipi (B cell hariç)\n",
        "top_cell_types = cell_counts.drop(labels=[\"B cell\"], errors=\"ignore\").nlargest(9)\n",
        "\n",
        "# B cell sayısını al\n",
        "b_cell_count = cell_counts.get(\"B cell\", 0)\n",
        "\n",
        "# B cell serisi oluştur\n",
        "b_cell_series = pd.Series({\"B cell\": b_cell_count})\n",
        "\n",
        "# Birleştir (yeni pandas ile uyumlu şekilde)\n",
        "final_counts = pd.concat([top_cell_types, b_cell_series])\n",
        "final_counts = final_counts.sort_values(ascending=False).reset_index()\n",
        "final_counts.columns = [\"cell_type\", \"count\"]\n",
        "\n",
        "# Plotly çizimi\n",
        "fig = px.bar(final_counts, x=\"cell_type\", y=\"count\", title=\"Top Cell Types (Including B cell)\")\n",
        "fig.update_layout(xaxis_title=\"Cell Type\", yaxis_title=\"Count\")\n",
        "fig.show()\n"
      ],
      "metadata": {
        "colab": {
          "base_uri": "https://localhost:8080/",
          "height": 542
        },
        "id": "QWxu-ud8Atse",
        "outputId": "3bda6656-ff50-4c27-a456-7b2eabe11a98"
      },
      "execution_count": 10,
      "outputs": [
        {
          "output_type": "display_data",
          "data": {
            "text/html": [
              "<html>\n",
              "<head><meta charset=\"utf-8\" /></head>\n",
              "<body>\n",
              "    <div>            <script src=\"https://cdnjs.cloudflare.com/ajax/libs/mathjax/2.7.5/MathJax.js?config=TeX-AMS-MML_SVG\"></script><script type=\"text/javascript\">if (window.MathJax && window.MathJax.Hub && window.MathJax.Hub.Config) {window.MathJax.Hub.Config({SVG: {font: \"STIX-Web\"}});}</script>                <script type=\"text/javascript\">window.PlotlyConfig = {MathJaxConfig: 'local'};</script>\n",
              "        <script charset=\"utf-8\" src=\"https://cdn.plot.ly/plotly-2.35.2.min.js\"></script>                <div id=\"0eed9162-f70d-4335-a981-b6a0a109659c\" class=\"plotly-graph-div\" style=\"height:525px; width:100%;\"></div>            <script type=\"text/javascript\">                                    window.PLOTLYENV=window.PLOTLYENV || {};                                    if (document.getElementById(\"0eed9162-f70d-4335-a981-b6a0a109659c\")) {                    Plotly.newPlot(                        \"0eed9162-f70d-4335-a981-b6a0a109659c\",                        [{\"alignmentgroup\":\"True\",\"hovertemplate\":\"cell_type=%{x}\\u003cbr\\u003ecount=%{y}\\u003cextra\\u003e\\u003c\\u002fextra\\u003e\",\"legendgroup\":\"\",\"marker\":{\"color\":\"#636efa\",\"pattern\":{\"shape\":\"\"}},\"name\":\"\",\"offsetgroup\":\"\",\"orientation\":\"v\",\"showlegend\":false,\"textposition\":\"auto\",\"x\":[\"neuron\",\"oligodendrocyte\",\"L2\\u002f3-6 intratelencephalic projecting glutamatergic neuron\",\"glutamatergic neuron\",\"unknown\",\"fibroblast\",\"radial glial cell\",\"CD4-positive, alpha-beta T cell\",\"macrophage\",\"B cell\"],\"xaxis\":\"x\",\"y\":[9693939,4437030,3861717,3125705,2993011,2564217,2020448,2020272,1978566,1691023],\"yaxis\":\"y\",\"type\":\"bar\"}],                        {\"template\":{\"data\":{\"histogram2dcontour\":[{\"type\":\"histogram2dcontour\",\"colorbar\":{\"outlinewidth\":0,\"ticks\":\"\"},\"colorscale\":[[0.0,\"#0d0887\"],[0.1111111111111111,\"#46039f\"],[0.2222222222222222,\"#7201a8\"],[0.3333333333333333,\"#9c179e\"],[0.4444444444444444,\"#bd3786\"],[0.5555555555555556,\"#d8576b\"],[0.6666666666666666,\"#ed7953\"],[0.7777777777777778,\"#fb9f3a\"],[0.8888888888888888,\"#fdca26\"],[1.0,\"#f0f921\"]]}],\"choropleth\":[{\"type\":\"choropleth\",\"colorbar\":{\"outlinewidth\":0,\"ticks\":\"\"}}],\"histogram2d\":[{\"type\":\"histogram2d\",\"colorbar\":{\"outlinewidth\":0,\"ticks\":\"\"},\"colorscale\":[[0.0,\"#0d0887\"],[0.1111111111111111,\"#46039f\"],[0.2222222222222222,\"#7201a8\"],[0.3333333333333333,\"#9c179e\"],[0.4444444444444444,\"#bd3786\"],[0.5555555555555556,\"#d8576b\"],[0.6666666666666666,\"#ed7953\"],[0.7777777777777778,\"#fb9f3a\"],[0.8888888888888888,\"#fdca26\"],[1.0,\"#f0f921\"]]}],\"heatmap\":[{\"type\":\"heatmap\",\"colorbar\":{\"outlinewidth\":0,\"ticks\":\"\"},\"colorscale\":[[0.0,\"#0d0887\"],[0.1111111111111111,\"#46039f\"],[0.2222222222222222,\"#7201a8\"],[0.3333333333333333,\"#9c179e\"],[0.4444444444444444,\"#bd3786\"],[0.5555555555555556,\"#d8576b\"],[0.6666666666666666,\"#ed7953\"],[0.7777777777777778,\"#fb9f3a\"],[0.8888888888888888,\"#fdca26\"],[1.0,\"#f0f921\"]]}],\"heatmapgl\":[{\"type\":\"heatmapgl\",\"colorbar\":{\"outlinewidth\":0,\"ticks\":\"\"},\"colorscale\":[[0.0,\"#0d0887\"],[0.1111111111111111,\"#46039f\"],[0.2222222222222222,\"#7201a8\"],[0.3333333333333333,\"#9c179e\"],[0.4444444444444444,\"#bd3786\"],[0.5555555555555556,\"#d8576b\"],[0.6666666666666666,\"#ed7953\"],[0.7777777777777778,\"#fb9f3a\"],[0.8888888888888888,\"#fdca26\"],[1.0,\"#f0f921\"]]}],\"contourcarpet\":[{\"type\":\"contourcarpet\",\"colorbar\":{\"outlinewidth\":0,\"ticks\":\"\"}}],\"contour\":[{\"type\":\"contour\",\"colorbar\":{\"outlinewidth\":0,\"ticks\":\"\"},\"colorscale\":[[0.0,\"#0d0887\"],[0.1111111111111111,\"#46039f\"],[0.2222222222222222,\"#7201a8\"],[0.3333333333333333,\"#9c179e\"],[0.4444444444444444,\"#bd3786\"],[0.5555555555555556,\"#d8576b\"],[0.6666666666666666,\"#ed7953\"],[0.7777777777777778,\"#fb9f3a\"],[0.8888888888888888,\"#fdca26\"],[1.0,\"#f0f921\"]]}],\"surface\":[{\"type\":\"surface\",\"colorbar\":{\"outlinewidth\":0,\"ticks\":\"\"},\"colorscale\":[[0.0,\"#0d0887\"],[0.1111111111111111,\"#46039f\"],[0.2222222222222222,\"#7201a8\"],[0.3333333333333333,\"#9c179e\"],[0.4444444444444444,\"#bd3786\"],[0.5555555555555556,\"#d8576b\"],[0.6666666666666666,\"#ed7953\"],[0.7777777777777778,\"#fb9f3a\"],[0.8888888888888888,\"#fdca26\"],[1.0,\"#f0f921\"]]}],\"mesh3d\":[{\"type\":\"mesh3d\",\"colorbar\":{\"outlinewidth\":0,\"ticks\":\"\"}}],\"scatter\":[{\"fillpattern\":{\"fillmode\":\"overlay\",\"size\":10,\"solidity\":0.2},\"type\":\"scatter\"}],\"parcoords\":[{\"type\":\"parcoords\",\"line\":{\"colorbar\":{\"outlinewidth\":0,\"ticks\":\"\"}}}],\"scatterpolargl\":[{\"type\":\"scatterpolargl\",\"marker\":{\"colorbar\":{\"outlinewidth\":0,\"ticks\":\"\"}}}],\"bar\":[{\"error_x\":{\"color\":\"#2a3f5f\"},\"error_y\":{\"color\":\"#2a3f5f\"},\"marker\":{\"line\":{\"color\":\"#E5ECF6\",\"width\":0.5},\"pattern\":{\"fillmode\":\"overlay\",\"size\":10,\"solidity\":0.2}},\"type\":\"bar\"}],\"scattergeo\":[{\"type\":\"scattergeo\",\"marker\":{\"colorbar\":{\"outlinewidth\":0,\"ticks\":\"\"}}}],\"scatterpolar\":[{\"type\":\"scatterpolar\",\"marker\":{\"colorbar\":{\"outlinewidth\":0,\"ticks\":\"\"}}}],\"histogram\":[{\"marker\":{\"pattern\":{\"fillmode\":\"overlay\",\"size\":10,\"solidity\":0.2}},\"type\":\"histogram\"}],\"scattergl\":[{\"type\":\"scattergl\",\"marker\":{\"colorbar\":{\"outlinewidth\":0,\"ticks\":\"\"}}}],\"scatter3d\":[{\"type\":\"scatter3d\",\"line\":{\"colorbar\":{\"outlinewidth\":0,\"ticks\":\"\"}},\"marker\":{\"colorbar\":{\"outlinewidth\":0,\"ticks\":\"\"}}}],\"scattermapbox\":[{\"type\":\"scattermapbox\",\"marker\":{\"colorbar\":{\"outlinewidth\":0,\"ticks\":\"\"}}}],\"scatterternary\":[{\"type\":\"scatterternary\",\"marker\":{\"colorbar\":{\"outlinewidth\":0,\"ticks\":\"\"}}}],\"scattercarpet\":[{\"type\":\"scattercarpet\",\"marker\":{\"colorbar\":{\"outlinewidth\":0,\"ticks\":\"\"}}}],\"carpet\":[{\"aaxis\":{\"endlinecolor\":\"#2a3f5f\",\"gridcolor\":\"white\",\"linecolor\":\"white\",\"minorgridcolor\":\"white\",\"startlinecolor\":\"#2a3f5f\"},\"baxis\":{\"endlinecolor\":\"#2a3f5f\",\"gridcolor\":\"white\",\"linecolor\":\"white\",\"minorgridcolor\":\"white\",\"startlinecolor\":\"#2a3f5f\"},\"type\":\"carpet\"}],\"table\":[{\"cells\":{\"fill\":{\"color\":\"#EBF0F8\"},\"line\":{\"color\":\"white\"}},\"header\":{\"fill\":{\"color\":\"#C8D4E3\"},\"line\":{\"color\":\"white\"}},\"type\":\"table\"}],\"barpolar\":[{\"marker\":{\"line\":{\"color\":\"#E5ECF6\",\"width\":0.5},\"pattern\":{\"fillmode\":\"overlay\",\"size\":10,\"solidity\":0.2}},\"type\":\"barpolar\"}],\"pie\":[{\"automargin\":true,\"type\":\"pie\"}]},\"layout\":{\"autotypenumbers\":\"strict\",\"colorway\":[\"#636efa\",\"#EF553B\",\"#00cc96\",\"#ab63fa\",\"#FFA15A\",\"#19d3f3\",\"#FF6692\",\"#B6E880\",\"#FF97FF\",\"#FECB52\"],\"font\":{\"color\":\"#2a3f5f\"},\"hovermode\":\"closest\",\"hoverlabel\":{\"align\":\"left\"},\"paper_bgcolor\":\"white\",\"plot_bgcolor\":\"#E5ECF6\",\"polar\":{\"bgcolor\":\"#E5ECF6\",\"angularaxis\":{\"gridcolor\":\"white\",\"linecolor\":\"white\",\"ticks\":\"\"},\"radialaxis\":{\"gridcolor\":\"white\",\"linecolor\":\"white\",\"ticks\":\"\"}},\"ternary\":{\"bgcolor\":\"#E5ECF6\",\"aaxis\":{\"gridcolor\":\"white\",\"linecolor\":\"white\",\"ticks\":\"\"},\"baxis\":{\"gridcolor\":\"white\",\"linecolor\":\"white\",\"ticks\":\"\"},\"caxis\":{\"gridcolor\":\"white\",\"linecolor\":\"white\",\"ticks\":\"\"}},\"coloraxis\":{\"colorbar\":{\"outlinewidth\":0,\"ticks\":\"\"}},\"colorscale\":{\"sequential\":[[0.0,\"#0d0887\"],[0.1111111111111111,\"#46039f\"],[0.2222222222222222,\"#7201a8\"],[0.3333333333333333,\"#9c179e\"],[0.4444444444444444,\"#bd3786\"],[0.5555555555555556,\"#d8576b\"],[0.6666666666666666,\"#ed7953\"],[0.7777777777777778,\"#fb9f3a\"],[0.8888888888888888,\"#fdca26\"],[1.0,\"#f0f921\"]],\"sequentialminus\":[[0.0,\"#0d0887\"],[0.1111111111111111,\"#46039f\"],[0.2222222222222222,\"#7201a8\"],[0.3333333333333333,\"#9c179e\"],[0.4444444444444444,\"#bd3786\"],[0.5555555555555556,\"#d8576b\"],[0.6666666666666666,\"#ed7953\"],[0.7777777777777778,\"#fb9f3a\"],[0.8888888888888888,\"#fdca26\"],[1.0,\"#f0f921\"]],\"diverging\":[[0,\"#8e0152\"],[0.1,\"#c51b7d\"],[0.2,\"#de77ae\"],[0.3,\"#f1b6da\"],[0.4,\"#fde0ef\"],[0.5,\"#f7f7f7\"],[0.6,\"#e6f5d0\"],[0.7,\"#b8e186\"],[0.8,\"#7fbc41\"],[0.9,\"#4d9221\"],[1,\"#276419\"]]},\"xaxis\":{\"gridcolor\":\"white\",\"linecolor\":\"white\",\"ticks\":\"\",\"title\":{\"standoff\":15},\"zerolinecolor\":\"white\",\"automargin\":true,\"zerolinewidth\":2},\"yaxis\":{\"gridcolor\":\"white\",\"linecolor\":\"white\",\"ticks\":\"\",\"title\":{\"standoff\":15},\"zerolinecolor\":\"white\",\"automargin\":true,\"zerolinewidth\":2},\"scene\":{\"xaxis\":{\"backgroundcolor\":\"#E5ECF6\",\"gridcolor\":\"white\",\"linecolor\":\"white\",\"showbackground\":true,\"ticks\":\"\",\"zerolinecolor\":\"white\",\"gridwidth\":2},\"yaxis\":{\"backgroundcolor\":\"#E5ECF6\",\"gridcolor\":\"white\",\"linecolor\":\"white\",\"showbackground\":true,\"ticks\":\"\",\"zerolinecolor\":\"white\",\"gridwidth\":2},\"zaxis\":{\"backgroundcolor\":\"#E5ECF6\",\"gridcolor\":\"white\",\"linecolor\":\"white\",\"showbackground\":true,\"ticks\":\"\",\"zerolinecolor\":\"white\",\"gridwidth\":2}},\"shapedefaults\":{\"line\":{\"color\":\"#2a3f5f\"}},\"annotationdefaults\":{\"arrowcolor\":\"#2a3f5f\",\"arrowhead\":0,\"arrowwidth\":1},\"geo\":{\"bgcolor\":\"white\",\"landcolor\":\"#E5ECF6\",\"subunitcolor\":\"white\",\"showland\":true,\"showlakes\":true,\"lakecolor\":\"white\"},\"title\":{\"x\":0.05},\"mapbox\":{\"style\":\"light\"}}},\"xaxis\":{\"anchor\":\"y\",\"domain\":[0.0,1.0],\"title\":{\"text\":\"Cell Type\"}},\"yaxis\":{\"anchor\":\"x\",\"domain\":[0.0,1.0],\"title\":{\"text\":\"Count\"}},\"legend\":{\"tracegroupgap\":0},\"title\":{\"text\":\"Top Cell Types (Including B cell)\"},\"barmode\":\"relative\"},                        {\"responsive\": true}                    ).then(function(){\n",
              "                            \n",
              "var gd = document.getElementById('0eed9162-f70d-4335-a981-b6a0a109659c');\n",
              "var x = new MutationObserver(function (mutations, observer) {{\n",
              "        var display = window.getComputedStyle(gd).display;\n",
              "        if (!display || display === 'none') {{\n",
              "            console.log([gd, 'removed!']);\n",
              "            Plotly.purge(gd);\n",
              "            observer.disconnect();\n",
              "        }}\n",
              "}});\n",
              "\n",
              "// Listen for the removal of the full notebook cells\n",
              "var notebookContainer = gd.closest('#notebook-container');\n",
              "if (notebookContainer) {{\n",
              "    x.observe(notebookContainer, {childList: true});\n",
              "}}\n",
              "\n",
              "// Listen for the clearing of the current output cell\n",
              "var outputEl = gd.closest('.output');\n",
              "if (outputEl) {{\n",
              "    x.observe(outputEl, {childList: true});\n",
              "}}\n",
              "\n",
              "                        })                };                            </script>        </div>\n",
              "</body>\n",
              "</html>"
            ]
          },
          "metadata": {}
        }
      ]
    },
    {
      "cell_type": "markdown",
      "source": [
        "1.Neuron cell\n",
        "The most abundant cell type according to the diagram.We can see that there is nearly 10M neuron cell in this data.\n",
        "\n",
        "2.B cell\n",
        "According to the diagram there is nearly 2M B cell.They produce antibodies and drives humoral immunity.Since there hasn't been that much B cell we might say that this data is not in trouble.\n",
        "\n",
        "3.Fibroblast\n",
        "According to the diagram there is nearly 3M fibroblast cell.\n",
        "\n",
        "4.Oligodendrocyt\n",
        "According to the diagram there is nearly 4.5M cell.\n",
        "\n",
        "5.Macrophage\n",
        "According to the diagram there is nearly 2M cell."
      ],
      "metadata": {
        "id": "oJc2ImXLeUDC"
      }
    }
  ],
  "metadata": {
    "colab": {
      "collapsed_sections": [
        "Mfk6YY3G5kqp"
      ],
      "name": "Get_started.ipynb",
      "provenance": []
    },
    "kernelspec": {
      "display_name": "Python 3",
      "name": "python3"
    }
  },
  "nbformat": 4,
  "nbformat_minor": 0
}